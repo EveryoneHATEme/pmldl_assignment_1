{
 "cells": [
  {
   "cell_type": "code",
   "execution_count": 1,
   "id": "initial_id",
   "metadata": {
    "collapsed": true,
    "ExecuteTime": {
     "end_time": "2023-10-22T11:53:32.884125600Z",
     "start_time": "2023-10-22T11:53:32.310213800Z"
    }
   },
   "outputs": [],
   "source": [
    "import pandas as pd"
   ]
  },
  {
   "cell_type": "code",
   "execution_count": 2,
   "outputs": [],
   "source": [
    "dataframe = pd.read_csv('../data/raw/filtered.tsv', sep='\\t', header=0, index_col=0)"
   ],
   "metadata": {
    "collapsed": false,
    "ExecuteTime": {
     "end_time": "2023-10-22T11:53:34.601108400Z",
     "start_time": "2023-10-22T11:53:32.887124800Z"
    }
   },
   "id": "c21e3aacfce24710"
  },
  {
   "cell_type": "code",
   "execution_count": 3,
   "outputs": [
    {
     "data": {
      "text/plain": "                                           reference  \\\n0  If Alkar is flooding her with psychic waste, t...   \n1                          Now you're getting nasty.   \n2           Well, we could spare your life, for one.   \n3          Ah! Monkey, you've got to snap out of it.   \n4                   I've got orders to put her down.   \n\n                                         translation  similarity  lenght_diff  \\\n0  if Alkar floods her with her mental waste, it ...    0.785171     0.010309   \n1                        you're becoming disgusting.    0.749687     0.071429   \n2                      well, we can spare your life.    0.919051     0.268293   \n3                       monkey, you have to wake up.    0.664333     0.309524   \n4                         I have orders to kill her.    0.726639     0.181818   \n\n    ref_tox   trn_tox  \n0  0.014195  0.981983  \n1  0.065473  0.999039  \n2  0.213313  0.985068  \n3  0.053362  0.994215  \n4  0.009402  0.999348  ",
      "text/html": "<div>\n<style scoped>\n    .dataframe tbody tr th:only-of-type {\n        vertical-align: middle;\n    }\n\n    .dataframe tbody tr th {\n        vertical-align: top;\n    }\n\n    .dataframe thead th {\n        text-align: right;\n    }\n</style>\n<table border=\"1\" class=\"dataframe\">\n  <thead>\n    <tr style=\"text-align: right;\">\n      <th></th>\n      <th>reference</th>\n      <th>translation</th>\n      <th>similarity</th>\n      <th>lenght_diff</th>\n      <th>ref_tox</th>\n      <th>trn_tox</th>\n    </tr>\n  </thead>\n  <tbody>\n    <tr>\n      <th>0</th>\n      <td>If Alkar is flooding her with psychic waste, t...</td>\n      <td>if Alkar floods her with her mental waste, it ...</td>\n      <td>0.785171</td>\n      <td>0.010309</td>\n      <td>0.014195</td>\n      <td>0.981983</td>\n    </tr>\n    <tr>\n      <th>1</th>\n      <td>Now you're getting nasty.</td>\n      <td>you're becoming disgusting.</td>\n      <td>0.749687</td>\n      <td>0.071429</td>\n      <td>0.065473</td>\n      <td>0.999039</td>\n    </tr>\n    <tr>\n      <th>2</th>\n      <td>Well, we could spare your life, for one.</td>\n      <td>well, we can spare your life.</td>\n      <td>0.919051</td>\n      <td>0.268293</td>\n      <td>0.213313</td>\n      <td>0.985068</td>\n    </tr>\n    <tr>\n      <th>3</th>\n      <td>Ah! Monkey, you've got to snap out of it.</td>\n      <td>monkey, you have to wake up.</td>\n      <td>0.664333</td>\n      <td>0.309524</td>\n      <td>0.053362</td>\n      <td>0.994215</td>\n    </tr>\n    <tr>\n      <th>4</th>\n      <td>I've got orders to put her down.</td>\n      <td>I have orders to kill her.</td>\n      <td>0.726639</td>\n      <td>0.181818</td>\n      <td>0.009402</td>\n      <td>0.999348</td>\n    </tr>\n  </tbody>\n</table>\n</div>"
     },
     "execution_count": 3,
     "metadata": {},
     "output_type": "execute_result"
    }
   ],
   "source": [
    "dataframe.head()"
   ],
   "metadata": {
    "collapsed": false,
    "ExecuteTime": {
     "end_time": "2023-10-22T11:53:34.627178Z",
     "start_time": "2023-10-22T11:53:34.606089100Z"
    }
   },
   "id": "3450021ce87f793"
  },
  {
   "cell_type": "code",
   "execution_count": 4,
   "outputs": [
    {
     "data": {
      "text/plain": "          similarity    lenght_diff        ref_tox        trn_tox\ncount  577777.000000  577777.000000  577777.000000  577777.000000\nmean        0.758469       0.157652       0.541372       0.434490\nstd         0.092695       0.108057       0.457571       0.458904\nmin         0.600001       0.000000       0.000033       0.000033\n25%         0.681105       0.066667       0.012171       0.000707\n50%         0.754439       0.141791       0.806795       0.085133\n75%         0.831244       0.238095       0.990469       0.973739\nmax         0.950000       0.400000       0.999724       0.999730",
      "text/html": "<div>\n<style scoped>\n    .dataframe tbody tr th:only-of-type {\n        vertical-align: middle;\n    }\n\n    .dataframe tbody tr th {\n        vertical-align: top;\n    }\n\n    .dataframe thead th {\n        text-align: right;\n    }\n</style>\n<table border=\"1\" class=\"dataframe\">\n  <thead>\n    <tr style=\"text-align: right;\">\n      <th></th>\n      <th>similarity</th>\n      <th>lenght_diff</th>\n      <th>ref_tox</th>\n      <th>trn_tox</th>\n    </tr>\n  </thead>\n  <tbody>\n    <tr>\n      <th>count</th>\n      <td>577777.000000</td>\n      <td>577777.000000</td>\n      <td>577777.000000</td>\n      <td>577777.000000</td>\n    </tr>\n    <tr>\n      <th>mean</th>\n      <td>0.758469</td>\n      <td>0.157652</td>\n      <td>0.541372</td>\n      <td>0.434490</td>\n    </tr>\n    <tr>\n      <th>std</th>\n      <td>0.092695</td>\n      <td>0.108057</td>\n      <td>0.457571</td>\n      <td>0.458904</td>\n    </tr>\n    <tr>\n      <th>min</th>\n      <td>0.600001</td>\n      <td>0.000000</td>\n      <td>0.000033</td>\n      <td>0.000033</td>\n    </tr>\n    <tr>\n      <th>25%</th>\n      <td>0.681105</td>\n      <td>0.066667</td>\n      <td>0.012171</td>\n      <td>0.000707</td>\n    </tr>\n    <tr>\n      <th>50%</th>\n      <td>0.754439</td>\n      <td>0.141791</td>\n      <td>0.806795</td>\n      <td>0.085133</td>\n    </tr>\n    <tr>\n      <th>75%</th>\n      <td>0.831244</td>\n      <td>0.238095</td>\n      <td>0.990469</td>\n      <td>0.973739</td>\n    </tr>\n    <tr>\n      <th>max</th>\n      <td>0.950000</td>\n      <td>0.400000</td>\n      <td>0.999724</td>\n      <td>0.999730</td>\n    </tr>\n  </tbody>\n</table>\n</div>"
     },
     "execution_count": 4,
     "metadata": {},
     "output_type": "execute_result"
    }
   ],
   "source": [
    "dataframe.describe()"
   ],
   "metadata": {
    "collapsed": false,
    "ExecuteTime": {
     "end_time": "2023-10-22T11:53:34.773954600Z",
     "start_time": "2023-10-22T11:53:34.621180500Z"
    }
   },
   "id": "4e2d7252f552b30"
  },
  {
   "cell_type": "code",
   "execution_count": 5,
   "outputs": [
    {
     "data": {
      "text/plain": "reference       object\ntranslation     object\nsimilarity     float64\nlenght_diff    float64\nref_tox        float64\ntrn_tox        float64\ndtype: object"
     },
     "execution_count": 5,
     "metadata": {},
     "output_type": "execute_result"
    }
   ],
   "source": [
    "dataframe.dtypes"
   ],
   "metadata": {
    "collapsed": false,
    "ExecuteTime": {
     "end_time": "2023-10-22T11:53:34.774969200Z",
     "start_time": "2023-10-22T11:53:34.741466200Z"
    }
   },
   "id": "10e578c49ce516e8"
  },
  {
   "cell_type": "code",
   "execution_count": 6,
   "outputs": [],
   "source": [
    "dataframe[['reference', 'translation']] = dataframe[['reference', 'translation']].astype(str)"
   ],
   "metadata": {
    "collapsed": false,
    "ExecuteTime": {
     "end_time": "2023-10-22T11:55:04.716054400Z",
     "start_time": "2023-10-22T11:55:04.595616400Z"
    }
   },
   "id": "7e04c4aceb01897a"
  },
  {
   "cell_type": "code",
   "execution_count": 8,
   "outputs": [],
   "source": [
    "dataframe.to_parquet('../data/interim/original.parquet')"
   ],
   "metadata": {
    "collapsed": false,
    "ExecuteTime": {
     "end_time": "2023-10-22T11:56:14.465746900Z",
     "start_time": "2023-10-22T11:56:13.438337300Z"
    }
   },
   "id": "93550f635c9aef4"
  }
 ],
 "metadata": {
  "kernelspec": {
   "display_name": "Python 3",
   "language": "python",
   "name": "python3"
  },
  "language_info": {
   "codemirror_mode": {
    "name": "ipython",
    "version": 2
   },
   "file_extension": ".py",
   "mimetype": "text/x-python",
   "name": "python",
   "nbconvert_exporter": "python",
   "pygments_lexer": "ipython2",
   "version": "2.7.6"
  }
 },
 "nbformat": 4,
 "nbformat_minor": 5
}
