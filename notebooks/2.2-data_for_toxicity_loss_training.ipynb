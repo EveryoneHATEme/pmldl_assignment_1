{
 "cells": [
  {
   "cell_type": "code",
   "execution_count": 1,
   "id": "initial_id",
   "metadata": {
    "collapsed": true,
    "ExecuteTime": {
     "end_time": "2023-11-01T11:04:58.194409300Z",
     "start_time": "2023-11-01T11:04:40.625054100Z"
    }
   },
   "outputs": [],
   "source": [
    "import pandas as pd\n",
    "\n",
    "dataframe = pd.read_parquet('../data/interim/original.parquet')"
   ]
  },
  {
   "cell_type": "code",
   "execution_count": 2,
   "outputs": [
    {
     "data": {
      "text/plain": "                                           reference  \\\n0  If Alkar is flooding her with psychic waste, t...   \n1                          Now you're getting nasty.   \n2           Well, we could spare your life, for one.   \n3          Ah! Monkey, you've got to snap out of it.   \n4                   I've got orders to put her down.   \n\n                                         translation  similarity  lenght_diff  \\\n0  if Alkar floods her with her mental waste, it ...    0.785171     0.010309   \n1                        you're becoming disgusting.    0.749687     0.071429   \n2                      well, we can spare your life.    0.919051     0.268293   \n3                       monkey, you have to wake up.    0.664333     0.309524   \n4                         I have orders to kill her.    0.726639     0.181818   \n\n    ref_tox   trn_tox  \n0  0.014195  0.981983  \n1  0.065473  0.999039  \n2  0.213313  0.985068  \n3  0.053362  0.994215  \n4  0.009402  0.999348  ",
      "text/html": "<div>\n<style scoped>\n    .dataframe tbody tr th:only-of-type {\n        vertical-align: middle;\n    }\n\n    .dataframe tbody tr th {\n        vertical-align: top;\n    }\n\n    .dataframe thead th {\n        text-align: right;\n    }\n</style>\n<table border=\"1\" class=\"dataframe\">\n  <thead>\n    <tr style=\"text-align: right;\">\n      <th></th>\n      <th>reference</th>\n      <th>translation</th>\n      <th>similarity</th>\n      <th>lenght_diff</th>\n      <th>ref_tox</th>\n      <th>trn_tox</th>\n    </tr>\n  </thead>\n  <tbody>\n    <tr>\n      <th>0</th>\n      <td>If Alkar is flooding her with psychic waste, t...</td>\n      <td>if Alkar floods her with her mental waste, it ...</td>\n      <td>0.785171</td>\n      <td>0.010309</td>\n      <td>0.014195</td>\n      <td>0.981983</td>\n    </tr>\n    <tr>\n      <th>1</th>\n      <td>Now you're getting nasty.</td>\n      <td>you're becoming disgusting.</td>\n      <td>0.749687</td>\n      <td>0.071429</td>\n      <td>0.065473</td>\n      <td>0.999039</td>\n    </tr>\n    <tr>\n      <th>2</th>\n      <td>Well, we could spare your life, for one.</td>\n      <td>well, we can spare your life.</td>\n      <td>0.919051</td>\n      <td>0.268293</td>\n      <td>0.213313</td>\n      <td>0.985068</td>\n    </tr>\n    <tr>\n      <th>3</th>\n      <td>Ah! Monkey, you've got to snap out of it.</td>\n      <td>monkey, you have to wake up.</td>\n      <td>0.664333</td>\n      <td>0.309524</td>\n      <td>0.053362</td>\n      <td>0.994215</td>\n    </tr>\n    <tr>\n      <th>4</th>\n      <td>I've got orders to put her down.</td>\n      <td>I have orders to kill her.</td>\n      <td>0.726639</td>\n      <td>0.181818</td>\n      <td>0.009402</td>\n      <td>0.999348</td>\n    </tr>\n  </tbody>\n</table>\n</div>"
     },
     "execution_count": 2,
     "metadata": {},
     "output_type": "execute_result"
    }
   ],
   "source": [
    "dataframe.head()"
   ],
   "metadata": {
    "collapsed": false,
    "ExecuteTime": {
     "end_time": "2023-11-01T11:04:58.231232500Z",
     "start_time": "2023-11-01T11:04:58.195393800Z"
    }
   },
   "id": "d2d99b70e2fce1d2"
  },
  {
   "cell_type": "code",
   "execution_count": 3,
   "outputs": [
    {
     "data": {
      "text/plain": "          similarity    lenght_diff        ref_tox        trn_tox\ncount  577777.000000  577777.000000  577777.000000  577777.000000\nmean        0.758469       0.157652       0.541372       0.434490\nstd         0.092695       0.108057       0.457571       0.458904\nmin         0.600001       0.000000       0.000033       0.000033\n25%         0.681105       0.066667       0.012171       0.000707\n50%         0.754439       0.141791       0.806795       0.085133\n75%         0.831244       0.238095       0.990469       0.973739\nmax         0.950000       0.400000       0.999724       0.999730",
      "text/html": "<div>\n<style scoped>\n    .dataframe tbody tr th:only-of-type {\n        vertical-align: middle;\n    }\n\n    .dataframe tbody tr th {\n        vertical-align: top;\n    }\n\n    .dataframe thead th {\n        text-align: right;\n    }\n</style>\n<table border=\"1\" class=\"dataframe\">\n  <thead>\n    <tr style=\"text-align: right;\">\n      <th></th>\n      <th>similarity</th>\n      <th>lenght_diff</th>\n      <th>ref_tox</th>\n      <th>trn_tox</th>\n    </tr>\n  </thead>\n  <tbody>\n    <tr>\n      <th>count</th>\n      <td>577777.000000</td>\n      <td>577777.000000</td>\n      <td>577777.000000</td>\n      <td>577777.000000</td>\n    </tr>\n    <tr>\n      <th>mean</th>\n      <td>0.758469</td>\n      <td>0.157652</td>\n      <td>0.541372</td>\n      <td>0.434490</td>\n    </tr>\n    <tr>\n      <th>std</th>\n      <td>0.092695</td>\n      <td>0.108057</td>\n      <td>0.457571</td>\n      <td>0.458904</td>\n    </tr>\n    <tr>\n      <th>min</th>\n      <td>0.600001</td>\n      <td>0.000000</td>\n      <td>0.000033</td>\n      <td>0.000033</td>\n    </tr>\n    <tr>\n      <th>25%</th>\n      <td>0.681105</td>\n      <td>0.066667</td>\n      <td>0.012171</td>\n      <td>0.000707</td>\n    </tr>\n    <tr>\n      <th>50%</th>\n      <td>0.754439</td>\n      <td>0.141791</td>\n      <td>0.806795</td>\n      <td>0.085133</td>\n    </tr>\n    <tr>\n      <th>75%</th>\n      <td>0.831244</td>\n      <td>0.238095</td>\n      <td>0.990469</td>\n      <td>0.973739</td>\n    </tr>\n    <tr>\n      <th>max</th>\n      <td>0.950000</td>\n      <td>0.400000</td>\n      <td>0.999724</td>\n      <td>0.999730</td>\n    </tr>\n  </tbody>\n</table>\n</div>"
     },
     "execution_count": 3,
     "metadata": {},
     "output_type": "execute_result"
    }
   ],
   "source": [
    "dataframe.describe()"
   ],
   "metadata": {
    "collapsed": false,
    "ExecuteTime": {
     "end_time": "2023-11-01T11:05:11.484772500Z",
     "start_time": "2023-11-01T11:05:11.359307300Z"
    }
   },
   "id": "3842399a7edd7e24"
  },
  {
   "cell_type": "code",
   "execution_count": 4,
   "outputs": [],
   "source": [
    "raw_dataset = {'text': []}\n",
    "\n",
    "for _, row in dataframe[len(dataframe) // 2:].iterrows():\n",
    "    raw_dataset['text'].append(row.reference)\n",
    "    raw_dataset['text'].append(row.translation)"
   ],
   "metadata": {
    "collapsed": false,
    "ExecuteTime": {
     "end_time": "2023-11-01T12:08:02.608833600Z",
     "start_time": "2023-11-01T12:07:42.401925300Z"
    }
   },
   "id": "e8241c5bb90fa681"
  },
  {
   "cell_type": "code",
   "execution_count": 5,
   "outputs": [],
   "source": [
    "dataset = pd.DataFrame.from_dict(raw_dataset)"
   ],
   "metadata": {
    "collapsed": false,
    "ExecuteTime": {
     "end_time": "2023-11-01T12:08:02.714385600Z",
     "start_time": "2023-11-01T12:08:02.692295300Z"
    }
   },
   "id": "3b895e8b5facc0f5"
  },
  {
   "cell_type": "code",
   "execution_count": 6,
   "outputs": [],
   "source": [
    "dataset.to_parquet('../data/interim/texts.parquet')"
   ],
   "metadata": {
    "collapsed": false,
    "ExecuteTime": {
     "end_time": "2023-11-01T12:08:03.034168Z",
     "start_time": "2023-11-01T12:08:02.853906Z"
    }
   },
   "id": "d2a00ff5209aae5"
  },
  {
   "cell_type": "code",
   "execution_count": null,
   "outputs": [],
   "source": [],
   "metadata": {
    "collapsed": false
   },
   "id": "9202cab47d1cabbc"
  }
 ],
 "metadata": {
  "kernelspec": {
   "display_name": "Python 3",
   "language": "python",
   "name": "python3"
  },
  "language_info": {
   "codemirror_mode": {
    "name": "ipython",
    "version": 2
   },
   "file_extension": ".py",
   "mimetype": "text/x-python",
   "name": "python",
   "nbconvert_exporter": "python",
   "pygments_lexer": "ipython2",
   "version": "2.7.6"
  }
 },
 "nbformat": 4,
 "nbformat_minor": 5
}
